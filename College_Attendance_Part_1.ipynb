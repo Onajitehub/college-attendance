{
 "cells": [
  {
   "cell_type": "markdown",
   "metadata": {},
   "source": [
    "# Part I - (Go to College Data Exploration)\n",
    "\n",
    "## by Onajite Ika\n",
    "\n",
    "## Introduction\n",
    "\n",
    "## Go to college Dataset:\n",
    "\n",
    "The [Go-to-college dataset](https://www.kaggle.com/datasets/saddamazyazy/go-to-college-dataset?sort=votes) is based on high school college attendance in Indonesia. This dataset focuses on indicators that boost college attendance. \n",
    "\n",
    "**Indicator Descriptions:**\n",
    "\n",
    "- `type_school`: we have 2 types of high school (student age 15-18) here: vocational high school, and academic high school. Student choose vocational high school usually because they want to quickly get job, so my assumption is students who are in vocational high school won't go to college as much as students of academic high school.\n",
    "- `school_accreditation`: A is the best, followed by B and C. While school accreditation doesn't measure student continuity to college, but college admission see school accreditation as one of the student's qualification. So higher accreditation -> more university option.\n",
    "- `gender`: male / female\n",
    "- `interest`: interest to go to college. While it may seem very correlated, but based on my own experience it really doesn't. Students who are interested to go to college usually forced by their parents to go to college, and students who are very interested to go to college may aim for the best college and don't get accepted, so they have a gap year.\n",
    "- `residence`: urban, rural, etc.\n",
    "- `parent_age`: parent age\n",
    "- `parent_salary`: monthly salary in Indonesian rupiah (IDR). 1 USD ~ 14500 IDR. I think this variable will also be important here. going to college requires money.\n",
    "- `house_area`: house area in m2\n",
    "- `average_grades`: averaged high school grades. Max = 100. A criteria for student's to qualify for college.\n",
    "- `parent_was_in_college`: Whether or not parents attended college or not.\n",
    "- `will_go_to_college`: Will student attend college or not.\n",
    "\n",
    "\n",
    "## Preliminary Wrangling"
   ]
  },
  {
   "cell_type": "code",
   "execution_count": 1,
   "metadata": {},
   "outputs": [],
   "source": [
    "# # import all packages and set plots to be embedded inline\n",
    "import numpy as np\n",
    "import pandas as pd\n",
    "import matplotlib.pyplot as plt\n",
    "import seaborn as sb\n",
    "\n",
    "%matplotlib inline\n",
    "\n"
   ]
  },
  {
   "cell_type": "code",
   "execution_count": 2,
   "metadata": {},
   "outputs": [
    {
     "data": {
      "text/html": [
       "<div>\n",
       "<style scoped>\n",
       "    .dataframe tbody tr th:only-of-type {\n",
       "        vertical-align: middle;\n",
       "    }\n",
       "\n",
       "    .dataframe tbody tr th {\n",
       "        vertical-align: top;\n",
       "    }\n",
       "\n",
       "    .dataframe thead th {\n",
       "        text-align: right;\n",
       "    }\n",
       "</style>\n",
       "<table border=\"1\" class=\"dataframe\">\n",
       "  <thead>\n",
       "    <tr style=\"text-align: right;\">\n",
       "      <th></th>\n",
       "      <th>type_school</th>\n",
       "      <th>school_accreditation</th>\n",
       "      <th>gender</th>\n",
       "      <th>interest</th>\n",
       "      <th>residence</th>\n",
       "      <th>parent_age</th>\n",
       "      <th>parent_salary</th>\n",
       "      <th>house_area</th>\n",
       "      <th>average_grades</th>\n",
       "      <th>parent_was_in_college</th>\n",
       "      <th>will_go_to_college</th>\n",
       "    </tr>\n",
       "  </thead>\n",
       "  <tbody>\n",
       "    <tr>\n",
       "      <th>0</th>\n",
       "      <td>Academic</td>\n",
       "      <td>A</td>\n",
       "      <td>Male</td>\n",
       "      <td>Less Interested</td>\n",
       "      <td>Urban</td>\n",
       "      <td>56</td>\n",
       "      <td>6950000</td>\n",
       "      <td>83.0</td>\n",
       "      <td>84.09</td>\n",
       "      <td>False</td>\n",
       "      <td>True</td>\n",
       "    </tr>\n",
       "    <tr>\n",
       "      <th>1</th>\n",
       "      <td>Academic</td>\n",
       "      <td>A</td>\n",
       "      <td>Male</td>\n",
       "      <td>Less Interested</td>\n",
       "      <td>Urban</td>\n",
       "      <td>57</td>\n",
       "      <td>4410000</td>\n",
       "      <td>76.8</td>\n",
       "      <td>86.91</td>\n",
       "      <td>False</td>\n",
       "      <td>True</td>\n",
       "    </tr>\n",
       "    <tr>\n",
       "      <th>2</th>\n",
       "      <td>Academic</td>\n",
       "      <td>B</td>\n",
       "      <td>Female</td>\n",
       "      <td>Very Interested</td>\n",
       "      <td>Urban</td>\n",
       "      <td>50</td>\n",
       "      <td>6500000</td>\n",
       "      <td>80.6</td>\n",
       "      <td>87.43</td>\n",
       "      <td>False</td>\n",
       "      <td>True</td>\n",
       "    </tr>\n",
       "    <tr>\n",
       "      <th>3</th>\n",
       "      <td>Vocational</td>\n",
       "      <td>B</td>\n",
       "      <td>Male</td>\n",
       "      <td>Very Interested</td>\n",
       "      <td>Rural</td>\n",
       "      <td>49</td>\n",
       "      <td>6600000</td>\n",
       "      <td>78.2</td>\n",
       "      <td>82.12</td>\n",
       "      <td>True</td>\n",
       "      <td>True</td>\n",
       "    </tr>\n",
       "    <tr>\n",
       "      <th>4</th>\n",
       "      <td>Academic</td>\n",
       "      <td>A</td>\n",
       "      <td>Female</td>\n",
       "      <td>Very Interested</td>\n",
       "      <td>Urban</td>\n",
       "      <td>57</td>\n",
       "      <td>5250000</td>\n",
       "      <td>75.1</td>\n",
       "      <td>86.79</td>\n",
       "      <td>False</td>\n",
       "      <td>False</td>\n",
       "    </tr>\n",
       "    <tr>\n",
       "      <th>5</th>\n",
       "      <td>Vocational</td>\n",
       "      <td>B</td>\n",
       "      <td>Female</td>\n",
       "      <td>Less Interested</td>\n",
       "      <td>Rural</td>\n",
       "      <td>48</td>\n",
       "      <td>3770000</td>\n",
       "      <td>65.3</td>\n",
       "      <td>86.79</td>\n",
       "      <td>True</td>\n",
       "      <td>False</td>\n",
       "    </tr>\n",
       "    <tr>\n",
       "      <th>6</th>\n",
       "      <td>Academic</td>\n",
       "      <td>A</td>\n",
       "      <td>Male</td>\n",
       "      <td>Very Interested</td>\n",
       "      <td>Rural</td>\n",
       "      <td>52</td>\n",
       "      <td>6680000</td>\n",
       "      <td>85.5</td>\n",
       "      <td>90.39</td>\n",
       "      <td>True</td>\n",
       "      <td>True</td>\n",
       "    </tr>\n",
       "    <tr>\n",
       "      <th>7</th>\n",
       "      <td>Academic</td>\n",
       "      <td>B</td>\n",
       "      <td>Male</td>\n",
       "      <td>Very Interested</td>\n",
       "      <td>Rural</td>\n",
       "      <td>53</td>\n",
       "      <td>5890000</td>\n",
       "      <td>83.3</td>\n",
       "      <td>84.65</td>\n",
       "      <td>True</td>\n",
       "      <td>False</td>\n",
       "    </tr>\n",
       "    <tr>\n",
       "      <th>8</th>\n",
       "      <td>Academic</td>\n",
       "      <td>B</td>\n",
       "      <td>Female</td>\n",
       "      <td>Uncertain</td>\n",
       "      <td>Rural</td>\n",
       "      <td>52</td>\n",
       "      <td>6730000</td>\n",
       "      <td>80.3</td>\n",
       "      <td>88.50</td>\n",
       "      <td>True</td>\n",
       "      <td>True</td>\n",
       "    </tr>\n",
       "    <tr>\n",
       "      <th>9</th>\n",
       "      <td>Academic</td>\n",
       "      <td>B</td>\n",
       "      <td>Female</td>\n",
       "      <td>Very Interested</td>\n",
       "      <td>Rural</td>\n",
       "      <td>47</td>\n",
       "      <td>3880000</td>\n",
       "      <td>68.0</td>\n",
       "      <td>85.43</td>\n",
       "      <td>True</td>\n",
       "      <td>False</td>\n",
       "    </tr>\n",
       "    <tr>\n",
       "      <th>10</th>\n",
       "      <td>Vocational</td>\n",
       "      <td>A</td>\n",
       "      <td>Male</td>\n",
       "      <td>Not Interested</td>\n",
       "      <td>Rural</td>\n",
       "      <td>57</td>\n",
       "      <td>5680000</td>\n",
       "      <td>67.1</td>\n",
       "      <td>89.45</td>\n",
       "      <td>True</td>\n",
       "      <td>False</td>\n",
       "    </tr>\n",
       "    <tr>\n",
       "      <th>11</th>\n",
       "      <td>Vocational</td>\n",
       "      <td>B</td>\n",
       "      <td>Male</td>\n",
       "      <td>Uncertain</td>\n",
       "      <td>Rural</td>\n",
       "      <td>48</td>\n",
       "      <td>5950000</td>\n",
       "      <td>60.7</td>\n",
       "      <td>84.96</td>\n",
       "      <td>True</td>\n",
       "      <td>False</td>\n",
       "    </tr>\n",
       "    <tr>\n",
       "      <th>12</th>\n",
       "      <td>Vocational</td>\n",
       "      <td>B</td>\n",
       "      <td>Male</td>\n",
       "      <td>Uncertain</td>\n",
       "      <td>Rural</td>\n",
       "      <td>47</td>\n",
       "      <td>6930000</td>\n",
       "      <td>65.4</td>\n",
       "      <td>86.23</td>\n",
       "      <td>True</td>\n",
       "      <td>False</td>\n",
       "    </tr>\n",
       "    <tr>\n",
       "      <th>13</th>\n",
       "      <td>Academic</td>\n",
       "      <td>B</td>\n",
       "      <td>Male</td>\n",
       "      <td>Very Interested</td>\n",
       "      <td>Rural</td>\n",
       "      <td>53</td>\n",
       "      <td>7130000</td>\n",
       "      <td>88.5</td>\n",
       "      <td>91.92</td>\n",
       "      <td>True</td>\n",
       "      <td>True</td>\n",
       "    </tr>\n",
       "    <tr>\n",
       "      <th>14</th>\n",
       "      <td>Academic</td>\n",
       "      <td>A</td>\n",
       "      <td>Male</td>\n",
       "      <td>Very Interested</td>\n",
       "      <td>Urban</td>\n",
       "      <td>51</td>\n",
       "      <td>3370000</td>\n",
       "      <td>67.1</td>\n",
       "      <td>84.09</td>\n",
       "      <td>False</td>\n",
       "      <td>False</td>\n",
       "    </tr>\n",
       "    <tr>\n",
       "      <th>15</th>\n",
       "      <td>Vocational</td>\n",
       "      <td>A</td>\n",
       "      <td>Female</td>\n",
       "      <td>Less Interested</td>\n",
       "      <td>Urban</td>\n",
       "      <td>53</td>\n",
       "      <td>6940000</td>\n",
       "      <td>50.1</td>\n",
       "      <td>89.71</td>\n",
       "      <td>True</td>\n",
       "      <td>True</td>\n",
       "    </tr>\n",
       "    <tr>\n",
       "      <th>16</th>\n",
       "      <td>Academic</td>\n",
       "      <td>B</td>\n",
       "      <td>Male</td>\n",
       "      <td>Very Interested</td>\n",
       "      <td>Rural</td>\n",
       "      <td>48</td>\n",
       "      <td>3970000</td>\n",
       "      <td>63.5</td>\n",
       "      <td>86.38</td>\n",
       "      <td>True</td>\n",
       "      <td>False</td>\n",
       "    </tr>\n",
       "    <tr>\n",
       "      <th>17</th>\n",
       "      <td>Vocational</td>\n",
       "      <td>B</td>\n",
       "      <td>Female</td>\n",
       "      <td>Very Interested</td>\n",
       "      <td>Rural</td>\n",
       "      <td>49</td>\n",
       "      <td>6790000</td>\n",
       "      <td>75.9</td>\n",
       "      <td>85.68</td>\n",
       "      <td>True</td>\n",
       "      <td>False</td>\n",
       "    </tr>\n",
       "    <tr>\n",
       "      <th>18</th>\n",
       "      <td>Vocational</td>\n",
       "      <td>A</td>\n",
       "      <td>Female</td>\n",
       "      <td>Less Interested</td>\n",
       "      <td>Rural</td>\n",
       "      <td>47</td>\n",
       "      <td>7180000</td>\n",
       "      <td>68.3</td>\n",
       "      <td>84.90</td>\n",
       "      <td>False</td>\n",
       "      <td>False</td>\n",
       "    </tr>\n",
       "    <tr>\n",
       "      <th>19</th>\n",
       "      <td>Vocational</td>\n",
       "      <td>B</td>\n",
       "      <td>Female</td>\n",
       "      <td>Very Interested</td>\n",
       "      <td>Rural</td>\n",
       "      <td>47</td>\n",
       "      <td>4090000</td>\n",
       "      <td>54.5</td>\n",
       "      <td>85.94</td>\n",
       "      <td>True</td>\n",
       "      <td>False</td>\n",
       "    </tr>\n",
       "    <tr>\n",
       "      <th>20</th>\n",
       "      <td>Vocational</td>\n",
       "      <td>B</td>\n",
       "      <td>Female</td>\n",
       "      <td>Very Interested</td>\n",
       "      <td>Urban</td>\n",
       "      <td>52</td>\n",
       "      <td>6680000</td>\n",
       "      <td>64.5</td>\n",
       "      <td>87.64</td>\n",
       "      <td>True</td>\n",
       "      <td>True</td>\n",
       "    </tr>\n",
       "    <tr>\n",
       "      <th>21</th>\n",
       "      <td>Academic</td>\n",
       "      <td>B</td>\n",
       "      <td>Female</td>\n",
       "      <td>Interested</td>\n",
       "      <td>Urban</td>\n",
       "      <td>56</td>\n",
       "      <td>2600000</td>\n",
       "      <td>77.5</td>\n",
       "      <td>86.50</td>\n",
       "      <td>True</td>\n",
       "      <td>False</td>\n",
       "    </tr>\n",
       "    <tr>\n",
       "      <th>22</th>\n",
       "      <td>Academic</td>\n",
       "      <td>A</td>\n",
       "      <td>Female</td>\n",
       "      <td>Very Interested</td>\n",
       "      <td>Urban</td>\n",
       "      <td>51</td>\n",
       "      <td>3900000</td>\n",
       "      <td>57.9</td>\n",
       "      <td>83.18</td>\n",
       "      <td>False</td>\n",
       "      <td>False</td>\n",
       "    </tr>\n",
       "    <tr>\n",
       "      <th>23</th>\n",
       "      <td>Academic</td>\n",
       "      <td>B</td>\n",
       "      <td>Female</td>\n",
       "      <td>Interested</td>\n",
       "      <td>Urban</td>\n",
       "      <td>60</td>\n",
       "      <td>4250000</td>\n",
       "      <td>58.1</td>\n",
       "      <td>83.99</td>\n",
       "      <td>False</td>\n",
       "      <td>False</td>\n",
       "    </tr>\n",
       "    <tr>\n",
       "      <th>24</th>\n",
       "      <td>Academic</td>\n",
       "      <td>B</td>\n",
       "      <td>Male</td>\n",
       "      <td>Very Interested</td>\n",
       "      <td>Urban</td>\n",
       "      <td>54</td>\n",
       "      <td>6400000</td>\n",
       "      <td>83.8</td>\n",
       "      <td>88.30</td>\n",
       "      <td>False</td>\n",
       "      <td>True</td>\n",
       "    </tr>\n",
       "    <tr>\n",
       "      <th>25</th>\n",
       "      <td>Vocational</td>\n",
       "      <td>A</td>\n",
       "      <td>Male</td>\n",
       "      <td>Not Interested</td>\n",
       "      <td>Urban</td>\n",
       "      <td>51</td>\n",
       "      <td>5760000</td>\n",
       "      <td>71.5</td>\n",
       "      <td>83.42</td>\n",
       "      <td>False</td>\n",
       "      <td>True</td>\n",
       "    </tr>\n",
       "    <tr>\n",
       "      <th>26</th>\n",
       "      <td>Vocational</td>\n",
       "      <td>B</td>\n",
       "      <td>Male</td>\n",
       "      <td>Very Interested</td>\n",
       "      <td>Rural</td>\n",
       "      <td>55</td>\n",
       "      <td>4950000</td>\n",
       "      <td>94.6</td>\n",
       "      <td>85.39</td>\n",
       "      <td>True</td>\n",
       "      <td>False</td>\n",
       "    </tr>\n",
       "    <tr>\n",
       "      <th>27</th>\n",
       "      <td>Vocational</td>\n",
       "      <td>A</td>\n",
       "      <td>Male</td>\n",
       "      <td>Uncertain</td>\n",
       "      <td>Urban</td>\n",
       "      <td>53</td>\n",
       "      <td>4720000</td>\n",
       "      <td>78.5</td>\n",
       "      <td>82.26</td>\n",
       "      <td>False</td>\n",
       "      <td>True</td>\n",
       "    </tr>\n",
       "    <tr>\n",
       "      <th>28</th>\n",
       "      <td>Vocational</td>\n",
       "      <td>B</td>\n",
       "      <td>Male</td>\n",
       "      <td>Not Interested</td>\n",
       "      <td>Rural</td>\n",
       "      <td>51</td>\n",
       "      <td>4890000</td>\n",
       "      <td>90.0</td>\n",
       "      <td>87.36</td>\n",
       "      <td>True</td>\n",
       "      <td>False</td>\n",
       "    </tr>\n",
       "    <tr>\n",
       "      <th>29</th>\n",
       "      <td>Vocational</td>\n",
       "      <td>B</td>\n",
       "      <td>Female</td>\n",
       "      <td>Uncertain</td>\n",
       "      <td>Rural</td>\n",
       "      <td>50</td>\n",
       "      <td>6450000</td>\n",
       "      <td>78.4</td>\n",
       "      <td>85.86</td>\n",
       "      <td>True</td>\n",
       "      <td>False</td>\n",
       "    </tr>\n",
       "    <tr>\n",
       "      <th>...</th>\n",
       "      <td>...</td>\n",
       "      <td>...</td>\n",
       "      <td>...</td>\n",
       "      <td>...</td>\n",
       "      <td>...</td>\n",
       "      <td>...</td>\n",
       "      <td>...</td>\n",
       "      <td>...</td>\n",
       "      <td>...</td>\n",
       "      <td>...</td>\n",
       "      <td>...</td>\n",
       "    </tr>\n",
       "    <tr>\n",
       "      <th>970</th>\n",
       "      <td>Academic</td>\n",
       "      <td>B</td>\n",
       "      <td>Male</td>\n",
       "      <td>Very Interested</td>\n",
       "      <td>Rural</td>\n",
       "      <td>55</td>\n",
       "      <td>8260000</td>\n",
       "      <td>91.1</td>\n",
       "      <td>88.25</td>\n",
       "      <td>True</td>\n",
       "      <td>True</td>\n",
       "    </tr>\n",
       "    <tr>\n",
       "      <th>971</th>\n",
       "      <td>Vocational</td>\n",
       "      <td>A</td>\n",
       "      <td>Female</td>\n",
       "      <td>Very Interested</td>\n",
       "      <td>Urban</td>\n",
       "      <td>57</td>\n",
       "      <td>4560000</td>\n",
       "      <td>85.9</td>\n",
       "      <td>83.55</td>\n",
       "      <td>False</td>\n",
       "      <td>True</td>\n",
       "    </tr>\n",
       "    <tr>\n",
       "      <th>972</th>\n",
       "      <td>Academic</td>\n",
       "      <td>B</td>\n",
       "      <td>Male</td>\n",
       "      <td>Uncertain</td>\n",
       "      <td>Urban</td>\n",
       "      <td>51</td>\n",
       "      <td>5120000</td>\n",
       "      <td>64.0</td>\n",
       "      <td>91.73</td>\n",
       "      <td>False</td>\n",
       "      <td>True</td>\n",
       "    </tr>\n",
       "    <tr>\n",
       "      <th>973</th>\n",
       "      <td>Academic</td>\n",
       "      <td>B</td>\n",
       "      <td>Male</td>\n",
       "      <td>Less Interested</td>\n",
       "      <td>Urban</td>\n",
       "      <td>53</td>\n",
       "      <td>1000000</td>\n",
       "      <td>107.1</td>\n",
       "      <td>90.28</td>\n",
       "      <td>False</td>\n",
       "      <td>True</td>\n",
       "    </tr>\n",
       "    <tr>\n",
       "      <th>974</th>\n",
       "      <td>Academic</td>\n",
       "      <td>B</td>\n",
       "      <td>Male</td>\n",
       "      <td>Very Interested</td>\n",
       "      <td>Urban</td>\n",
       "      <td>53</td>\n",
       "      <td>5700000</td>\n",
       "      <td>98.1</td>\n",
       "      <td>89.10</td>\n",
       "      <td>True</td>\n",
       "      <td>True</td>\n",
       "    </tr>\n",
       "    <tr>\n",
       "      <th>975</th>\n",
       "      <td>Vocational</td>\n",
       "      <td>B</td>\n",
       "      <td>Male</td>\n",
       "      <td>Uncertain</td>\n",
       "      <td>Rural</td>\n",
       "      <td>47</td>\n",
       "      <td>5120000</td>\n",
       "      <td>82.0</td>\n",
       "      <td>82.10</td>\n",
       "      <td>True</td>\n",
       "      <td>False</td>\n",
       "    </tr>\n",
       "    <tr>\n",
       "      <th>976</th>\n",
       "      <td>Academic</td>\n",
       "      <td>B</td>\n",
       "      <td>Male</td>\n",
       "      <td>Very Interested</td>\n",
       "      <td>Urban</td>\n",
       "      <td>56</td>\n",
       "      <td>3850000</td>\n",
       "      <td>60.9</td>\n",
       "      <td>82.33</td>\n",
       "      <td>True</td>\n",
       "      <td>False</td>\n",
       "    </tr>\n",
       "    <tr>\n",
       "      <th>977</th>\n",
       "      <td>Academic</td>\n",
       "      <td>A</td>\n",
       "      <td>Female</td>\n",
       "      <td>Very Interested</td>\n",
       "      <td>Urban</td>\n",
       "      <td>51</td>\n",
       "      <td>6540000</td>\n",
       "      <td>64.4</td>\n",
       "      <td>85.98</td>\n",
       "      <td>False</td>\n",
       "      <td>True</td>\n",
       "    </tr>\n",
       "    <tr>\n",
       "      <th>978</th>\n",
       "      <td>Academic</td>\n",
       "      <td>A</td>\n",
       "      <td>Female</td>\n",
       "      <td>Less Interested</td>\n",
       "      <td>Urban</td>\n",
       "      <td>57</td>\n",
       "      <td>4850000</td>\n",
       "      <td>93.8</td>\n",
       "      <td>86.85</td>\n",
       "      <td>False</td>\n",
       "      <td>True</td>\n",
       "    </tr>\n",
       "    <tr>\n",
       "      <th>979</th>\n",
       "      <td>Academic</td>\n",
       "      <td>A</td>\n",
       "      <td>Female</td>\n",
       "      <td>Less Interested</td>\n",
       "      <td>Rural</td>\n",
       "      <td>52</td>\n",
       "      <td>5110000</td>\n",
       "      <td>54.8</td>\n",
       "      <td>84.50</td>\n",
       "      <td>True</td>\n",
       "      <td>False</td>\n",
       "    </tr>\n",
       "    <tr>\n",
       "      <th>980</th>\n",
       "      <td>Academic</td>\n",
       "      <td>B</td>\n",
       "      <td>Male</td>\n",
       "      <td>Not Interested</td>\n",
       "      <td>Urban</td>\n",
       "      <td>52</td>\n",
       "      <td>5180000</td>\n",
       "      <td>78.4</td>\n",
       "      <td>81.06</td>\n",
       "      <td>True</td>\n",
       "      <td>True</td>\n",
       "    </tr>\n",
       "    <tr>\n",
       "      <th>981</th>\n",
       "      <td>Academic</td>\n",
       "      <td>A</td>\n",
       "      <td>Male</td>\n",
       "      <td>Very Interested</td>\n",
       "      <td>Urban</td>\n",
       "      <td>51</td>\n",
       "      <td>5510000</td>\n",
       "      <td>76.8</td>\n",
       "      <td>85.52</td>\n",
       "      <td>False</td>\n",
       "      <td>False</td>\n",
       "    </tr>\n",
       "    <tr>\n",
       "      <th>982</th>\n",
       "      <td>Vocational</td>\n",
       "      <td>A</td>\n",
       "      <td>Female</td>\n",
       "      <td>Very Interested</td>\n",
       "      <td>Rural</td>\n",
       "      <td>49</td>\n",
       "      <td>6370000</td>\n",
       "      <td>70.7</td>\n",
       "      <td>85.30</td>\n",
       "      <td>True</td>\n",
       "      <td>True</td>\n",
       "    </tr>\n",
       "    <tr>\n",
       "      <th>983</th>\n",
       "      <td>Vocational</td>\n",
       "      <td>B</td>\n",
       "      <td>Male</td>\n",
       "      <td>Uncertain</td>\n",
       "      <td>Rural</td>\n",
       "      <td>48</td>\n",
       "      <td>6900000</td>\n",
       "      <td>59.6</td>\n",
       "      <td>85.14</td>\n",
       "      <td>True</td>\n",
       "      <td>False</td>\n",
       "    </tr>\n",
       "    <tr>\n",
       "      <th>984</th>\n",
       "      <td>Academic</td>\n",
       "      <td>A</td>\n",
       "      <td>Male</td>\n",
       "      <td>Interested</td>\n",
       "      <td>Urban</td>\n",
       "      <td>57</td>\n",
       "      <td>4470000</td>\n",
       "      <td>57.2</td>\n",
       "      <td>87.19</td>\n",
       "      <td>False</td>\n",
       "      <td>False</td>\n",
       "    </tr>\n",
       "    <tr>\n",
       "      <th>985</th>\n",
       "      <td>Vocational</td>\n",
       "      <td>A</td>\n",
       "      <td>Female</td>\n",
       "      <td>Less Interested</td>\n",
       "      <td>Rural</td>\n",
       "      <td>53</td>\n",
       "      <td>6450000</td>\n",
       "      <td>90.7</td>\n",
       "      <td>87.66</td>\n",
       "      <td>True</td>\n",
       "      <td>True</td>\n",
       "    </tr>\n",
       "    <tr>\n",
       "      <th>986</th>\n",
       "      <td>Academic</td>\n",
       "      <td>A</td>\n",
       "      <td>Female</td>\n",
       "      <td>Less Interested</td>\n",
       "      <td>Urban</td>\n",
       "      <td>61</td>\n",
       "      <td>3680000</td>\n",
       "      <td>60.9</td>\n",
       "      <td>80.63</td>\n",
       "      <td>False</td>\n",
       "      <td>False</td>\n",
       "    </tr>\n",
       "    <tr>\n",
       "      <th>987</th>\n",
       "      <td>Vocational</td>\n",
       "      <td>B</td>\n",
       "      <td>Male</td>\n",
       "      <td>Not Interested</td>\n",
       "      <td>Rural</td>\n",
       "      <td>47</td>\n",
       "      <td>4690000</td>\n",
       "      <td>93.6</td>\n",
       "      <td>88.20</td>\n",
       "      <td>True</td>\n",
       "      <td>False</td>\n",
       "    </tr>\n",
       "    <tr>\n",
       "      <th>988</th>\n",
       "      <td>Academic</td>\n",
       "      <td>A</td>\n",
       "      <td>Female</td>\n",
       "      <td>Less Interested</td>\n",
       "      <td>Urban</td>\n",
       "      <td>54</td>\n",
       "      <td>7470000</td>\n",
       "      <td>78.6</td>\n",
       "      <td>86.38</td>\n",
       "      <td>False</td>\n",
       "      <td>True</td>\n",
       "    </tr>\n",
       "    <tr>\n",
       "      <th>989</th>\n",
       "      <td>Vocational</td>\n",
       "      <td>B</td>\n",
       "      <td>Male</td>\n",
       "      <td>Very Interested</td>\n",
       "      <td>Rural</td>\n",
       "      <td>49</td>\n",
       "      <td>6000000</td>\n",
       "      <td>71.9</td>\n",
       "      <td>84.58</td>\n",
       "      <td>True</td>\n",
       "      <td>False</td>\n",
       "    </tr>\n",
       "    <tr>\n",
       "      <th>990</th>\n",
       "      <td>Academic</td>\n",
       "      <td>A</td>\n",
       "      <td>Female</td>\n",
       "      <td>Less Interested</td>\n",
       "      <td>Urban</td>\n",
       "      <td>54</td>\n",
       "      <td>6500000</td>\n",
       "      <td>99.7</td>\n",
       "      <td>89.59</td>\n",
       "      <td>False</td>\n",
       "      <td>True</td>\n",
       "    </tr>\n",
       "    <tr>\n",
       "      <th>991</th>\n",
       "      <td>Academic</td>\n",
       "      <td>B</td>\n",
       "      <td>Female</td>\n",
       "      <td>Very Interested</td>\n",
       "      <td>Rural</td>\n",
       "      <td>51</td>\n",
       "      <td>6910000</td>\n",
       "      <td>74.2</td>\n",
       "      <td>86.87</td>\n",
       "      <td>True</td>\n",
       "      <td>True</td>\n",
       "    </tr>\n",
       "    <tr>\n",
       "      <th>992</th>\n",
       "      <td>Academic</td>\n",
       "      <td>B</td>\n",
       "      <td>Female</td>\n",
       "      <td>Less Interested</td>\n",
       "      <td>Urban</td>\n",
       "      <td>53</td>\n",
       "      <td>3770000</td>\n",
       "      <td>65.1</td>\n",
       "      <td>85.27</td>\n",
       "      <td>True</td>\n",
       "      <td>False</td>\n",
       "    </tr>\n",
       "    <tr>\n",
       "      <th>993</th>\n",
       "      <td>Academic</td>\n",
       "      <td>B</td>\n",
       "      <td>Male</td>\n",
       "      <td>Very Interested</td>\n",
       "      <td>Rural</td>\n",
       "      <td>53</td>\n",
       "      <td>5000000</td>\n",
       "      <td>50.8</td>\n",
       "      <td>84.54</td>\n",
       "      <td>True</td>\n",
       "      <td>False</td>\n",
       "    </tr>\n",
       "    <tr>\n",
       "      <th>994</th>\n",
       "      <td>Academic</td>\n",
       "      <td>B</td>\n",
       "      <td>Female</td>\n",
       "      <td>Less Interested</td>\n",
       "      <td>Urban</td>\n",
       "      <td>52</td>\n",
       "      <td>3270000</td>\n",
       "      <td>65.0</td>\n",
       "      <td>85.16</td>\n",
       "      <td>False</td>\n",
       "      <td>False</td>\n",
       "    </tr>\n",
       "    <tr>\n",
       "      <th>995</th>\n",
       "      <td>Vocational</td>\n",
       "      <td>A</td>\n",
       "      <td>Female</td>\n",
       "      <td>Very Interested</td>\n",
       "      <td>Rural</td>\n",
       "      <td>49</td>\n",
       "      <td>7420000</td>\n",
       "      <td>63.6</td>\n",
       "      <td>85.99</td>\n",
       "      <td>True</td>\n",
       "      <td>True</td>\n",
       "    </tr>\n",
       "    <tr>\n",
       "      <th>996</th>\n",
       "      <td>Academic</td>\n",
       "      <td>B</td>\n",
       "      <td>Female</td>\n",
       "      <td>Less Interested</td>\n",
       "      <td>Rural</td>\n",
       "      <td>51</td>\n",
       "      <td>7480000</td>\n",
       "      <td>84.3</td>\n",
       "      <td>89.72</td>\n",
       "      <td>True</td>\n",
       "      <td>True</td>\n",
       "    </tr>\n",
       "    <tr>\n",
       "      <th>997</th>\n",
       "      <td>Vocational</td>\n",
       "      <td>A</td>\n",
       "      <td>Male</td>\n",
       "      <td>Less Interested</td>\n",
       "      <td>Urban</td>\n",
       "      <td>49</td>\n",
       "      <td>5550000</td>\n",
       "      <td>75.2</td>\n",
       "      <td>79.56</td>\n",
       "      <td>False</td>\n",
       "      <td>True</td>\n",
       "    </tr>\n",
       "    <tr>\n",
       "      <th>998</th>\n",
       "      <td>Academic</td>\n",
       "      <td>B</td>\n",
       "      <td>Male</td>\n",
       "      <td>Uncertain</td>\n",
       "      <td>Rural</td>\n",
       "      <td>53</td>\n",
       "      <td>5840000</td>\n",
       "      <td>105.8</td>\n",
       "      <td>87.18</td>\n",
       "      <td>True</td>\n",
       "      <td>True</td>\n",
       "    </tr>\n",
       "    <tr>\n",
       "      <th>999</th>\n",
       "      <td>Academic</td>\n",
       "      <td>B</td>\n",
       "      <td>Male</td>\n",
       "      <td>Interested</td>\n",
       "      <td>Urban</td>\n",
       "      <td>50</td>\n",
       "      <td>2940000</td>\n",
       "      <td>69.1</td>\n",
       "      <td>86.13</td>\n",
       "      <td>True</td>\n",
       "      <td>False</td>\n",
       "    </tr>\n",
       "  </tbody>\n",
       "</table>\n",
       "<p>1000 rows × 11 columns</p>\n",
       "</div>"
      ],
      "text/plain": [
       "    type_school school_accreditation  gender         interest residence  \\\n",
       "0      Academic                    A    Male  Less Interested     Urban   \n",
       "1      Academic                    A    Male  Less Interested     Urban   \n",
       "2      Academic                    B  Female  Very Interested     Urban   \n",
       "3    Vocational                    B    Male  Very Interested     Rural   \n",
       "4      Academic                    A  Female  Very Interested     Urban   \n",
       "5    Vocational                    B  Female  Less Interested     Rural   \n",
       "6      Academic                    A    Male  Very Interested     Rural   \n",
       "7      Academic                    B    Male  Very Interested     Rural   \n",
       "8      Academic                    B  Female        Uncertain     Rural   \n",
       "9      Academic                    B  Female  Very Interested     Rural   \n",
       "10   Vocational                    A    Male   Not Interested     Rural   \n",
       "11   Vocational                    B    Male        Uncertain     Rural   \n",
       "12   Vocational                    B    Male        Uncertain     Rural   \n",
       "13     Academic                    B    Male  Very Interested     Rural   \n",
       "14     Academic                    A    Male  Very Interested     Urban   \n",
       "15   Vocational                    A  Female  Less Interested     Urban   \n",
       "16     Academic                    B    Male  Very Interested     Rural   \n",
       "17   Vocational                    B  Female  Very Interested     Rural   \n",
       "18   Vocational                    A  Female  Less Interested     Rural   \n",
       "19   Vocational                    B  Female  Very Interested     Rural   \n",
       "20   Vocational                    B  Female  Very Interested     Urban   \n",
       "21     Academic                    B  Female       Interested     Urban   \n",
       "22     Academic                    A  Female  Very Interested     Urban   \n",
       "23     Academic                    B  Female       Interested     Urban   \n",
       "24     Academic                    B    Male  Very Interested     Urban   \n",
       "25   Vocational                    A    Male   Not Interested     Urban   \n",
       "26   Vocational                    B    Male  Very Interested     Rural   \n",
       "27   Vocational                    A    Male        Uncertain     Urban   \n",
       "28   Vocational                    B    Male   Not Interested     Rural   \n",
       "29   Vocational                    B  Female        Uncertain     Rural   \n",
       "..          ...                  ...     ...              ...       ...   \n",
       "970    Academic                    B    Male  Very Interested     Rural   \n",
       "971  Vocational                    A  Female  Very Interested     Urban   \n",
       "972    Academic                    B    Male        Uncertain     Urban   \n",
       "973    Academic                    B    Male  Less Interested     Urban   \n",
       "974    Academic                    B    Male  Very Interested     Urban   \n",
       "975  Vocational                    B    Male        Uncertain     Rural   \n",
       "976    Academic                    B    Male  Very Interested     Urban   \n",
       "977    Academic                    A  Female  Very Interested     Urban   \n",
       "978    Academic                    A  Female  Less Interested     Urban   \n",
       "979    Academic                    A  Female  Less Interested     Rural   \n",
       "980    Academic                    B    Male   Not Interested     Urban   \n",
       "981    Academic                    A    Male  Very Interested     Urban   \n",
       "982  Vocational                    A  Female  Very Interested     Rural   \n",
       "983  Vocational                    B    Male        Uncertain     Rural   \n",
       "984    Academic                    A    Male       Interested     Urban   \n",
       "985  Vocational                    A  Female  Less Interested     Rural   \n",
       "986    Academic                    A  Female  Less Interested     Urban   \n",
       "987  Vocational                    B    Male   Not Interested     Rural   \n",
       "988    Academic                    A  Female  Less Interested     Urban   \n",
       "989  Vocational                    B    Male  Very Interested     Rural   \n",
       "990    Academic                    A  Female  Less Interested     Urban   \n",
       "991    Academic                    B  Female  Very Interested     Rural   \n",
       "992    Academic                    B  Female  Less Interested     Urban   \n",
       "993    Academic                    B    Male  Very Interested     Rural   \n",
       "994    Academic                    B  Female  Less Interested     Urban   \n",
       "995  Vocational                    A  Female  Very Interested     Rural   \n",
       "996    Academic                    B  Female  Less Interested     Rural   \n",
       "997  Vocational                    A    Male  Less Interested     Urban   \n",
       "998    Academic                    B    Male        Uncertain     Rural   \n",
       "999    Academic                    B    Male       Interested     Urban   \n",
       "\n",
       "     parent_age  parent_salary  house_area  average_grades  \\\n",
       "0            56        6950000        83.0           84.09   \n",
       "1            57        4410000        76.8           86.91   \n",
       "2            50        6500000        80.6           87.43   \n",
       "3            49        6600000        78.2           82.12   \n",
       "4            57        5250000        75.1           86.79   \n",
       "5            48        3770000        65.3           86.79   \n",
       "6            52        6680000        85.5           90.39   \n",
       "7            53        5890000        83.3           84.65   \n",
       "8            52        6730000        80.3           88.50   \n",
       "9            47        3880000        68.0           85.43   \n",
       "10           57        5680000        67.1           89.45   \n",
       "11           48        5950000        60.7           84.96   \n",
       "12           47        6930000        65.4           86.23   \n",
       "13           53        7130000        88.5           91.92   \n",
       "14           51        3370000        67.1           84.09   \n",
       "15           53        6940000        50.1           89.71   \n",
       "16           48        3970000        63.5           86.38   \n",
       "17           49        6790000        75.9           85.68   \n",
       "18           47        7180000        68.3           84.90   \n",
       "19           47        4090000        54.5           85.94   \n",
       "20           52        6680000        64.5           87.64   \n",
       "21           56        2600000        77.5           86.50   \n",
       "22           51        3900000        57.9           83.18   \n",
       "23           60        4250000        58.1           83.99   \n",
       "24           54        6400000        83.8           88.30   \n",
       "25           51        5760000        71.5           83.42   \n",
       "26           55        4950000        94.6           85.39   \n",
       "27           53        4720000        78.5           82.26   \n",
       "28           51        4890000        90.0           87.36   \n",
       "29           50        6450000        78.4           85.86   \n",
       "..          ...            ...         ...             ...   \n",
       "970          55        8260000        91.1           88.25   \n",
       "971          57        4560000        85.9           83.55   \n",
       "972          51        5120000        64.0           91.73   \n",
       "973          53        1000000       107.1           90.28   \n",
       "974          53        5700000        98.1           89.10   \n",
       "975          47        5120000        82.0           82.10   \n",
       "976          56        3850000        60.9           82.33   \n",
       "977          51        6540000        64.4           85.98   \n",
       "978          57        4850000        93.8           86.85   \n",
       "979          52        5110000        54.8           84.50   \n",
       "980          52        5180000        78.4           81.06   \n",
       "981          51        5510000        76.8           85.52   \n",
       "982          49        6370000        70.7           85.30   \n",
       "983          48        6900000        59.6           85.14   \n",
       "984          57        4470000        57.2           87.19   \n",
       "985          53        6450000        90.7           87.66   \n",
       "986          61        3680000        60.9           80.63   \n",
       "987          47        4690000        93.6           88.20   \n",
       "988          54        7470000        78.6           86.38   \n",
       "989          49        6000000        71.9           84.58   \n",
       "990          54        6500000        99.7           89.59   \n",
       "991          51        6910000        74.2           86.87   \n",
       "992          53        3770000        65.1           85.27   \n",
       "993          53        5000000        50.8           84.54   \n",
       "994          52        3270000        65.0           85.16   \n",
       "995          49        7420000        63.6           85.99   \n",
       "996          51        7480000        84.3           89.72   \n",
       "997          49        5550000        75.2           79.56   \n",
       "998          53        5840000       105.8           87.18   \n",
       "999          50        2940000        69.1           86.13   \n",
       "\n",
       "     parent_was_in_college  will_go_to_college  \n",
       "0                    False                True  \n",
       "1                    False                True  \n",
       "2                    False                True  \n",
       "3                     True                True  \n",
       "4                    False               False  \n",
       "5                     True               False  \n",
       "6                     True                True  \n",
       "7                     True               False  \n",
       "8                     True                True  \n",
       "9                     True               False  \n",
       "10                    True               False  \n",
       "11                    True               False  \n",
       "12                    True               False  \n",
       "13                    True                True  \n",
       "14                   False               False  \n",
       "15                    True                True  \n",
       "16                    True               False  \n",
       "17                    True               False  \n",
       "18                   False               False  \n",
       "19                    True               False  \n",
       "20                    True                True  \n",
       "21                    True               False  \n",
       "22                   False               False  \n",
       "23                   False               False  \n",
       "24                   False                True  \n",
       "25                   False                True  \n",
       "26                    True               False  \n",
       "27                   False                True  \n",
       "28                    True               False  \n",
       "29                    True               False  \n",
       "..                     ...                 ...  \n",
       "970                   True                True  \n",
       "971                  False                True  \n",
       "972                  False                True  \n",
       "973                  False                True  \n",
       "974                   True                True  \n",
       "975                   True               False  \n",
       "976                   True               False  \n",
       "977                  False                True  \n",
       "978                  False                True  \n",
       "979                   True               False  \n",
       "980                   True                True  \n",
       "981                  False               False  \n",
       "982                   True                True  \n",
       "983                   True               False  \n",
       "984                  False               False  \n",
       "985                   True                True  \n",
       "986                  False               False  \n",
       "987                   True               False  \n",
       "988                  False                True  \n",
       "989                   True               False  \n",
       "990                  False                True  \n",
       "991                   True                True  \n",
       "992                   True               False  \n",
       "993                   True               False  \n",
       "994                  False               False  \n",
       "995                   True                True  \n",
       "996                   True                True  \n",
       "997                  False                True  \n",
       "998                   True                True  \n",
       "999                   True               False  \n",
       "\n",
       "[1000 rows x 11 columns]"
      ]
     },
     "execution_count": 2,
     "metadata": {},
     "output_type": "execute_result"
    }
   ],
   "source": [
    "col_df = pd.read_csv('data.csv')\n",
    "col_df #to display the table"
   ]
  },
  {
   "cell_type": "code",
   "execution_count": 3,
   "metadata": {
    "scrolled": true
   },
   "outputs": [
    {
     "data": {
      "text/plain": [
       "Index(['type_school', 'school_accreditation', 'gender', 'interest',\n",
       "       'residence', 'parent_age', 'parent_salary', 'house_area',\n",
       "       'average_grades', 'parent_was_in_college', 'will_go_to_college'],\n",
       "      dtype='object')"
      ]
     },
     "execution_count": 3,
     "metadata": {},
     "output_type": "execute_result"
    }
   ],
   "source": [
    "#columns in the dataset\n",
    "col_df.columns"
   ]
  },
  {
   "cell_type": "code",
   "execution_count": 4,
   "metadata": {},
   "outputs": [
    {
     "data": {
      "text/plain": [
       "type_school              0\n",
       "school_accreditation     0\n",
       "gender                   0\n",
       "interest                 0\n",
       "residence                0\n",
       "parent_age               0\n",
       "parent_salary            0\n",
       "house_area               0\n",
       "average_grades           0\n",
       "parent_was_in_college    0\n",
       "will_go_to_college       0\n",
       "dtype: int64"
      ]
     },
     "execution_count": 4,
     "metadata": {},
     "output_type": "execute_result"
    }
   ],
   "source": [
    "#Nan counts\n",
    "col_df.isna().sum()"
   ]
  },
  {
   "cell_type": "code",
   "execution_count": 5,
   "metadata": {},
   "outputs": [
    {
     "name": "stdout",
     "output_type": "stream",
     "text": [
      "<class 'pandas.core.frame.DataFrame'>\n",
      "RangeIndex: 1000 entries, 0 to 999\n",
      "Data columns (total 11 columns):\n",
      "type_school              1000 non-null object\n",
      "school_accreditation     1000 non-null object\n",
      "gender                   1000 non-null object\n",
      "interest                 1000 non-null object\n",
      "residence                1000 non-null object\n",
      "parent_age               1000 non-null int64\n",
      "parent_salary            1000 non-null int64\n",
      "house_area               1000 non-null float64\n",
      "average_grades           1000 non-null float64\n",
      "parent_was_in_college    1000 non-null bool\n",
      "will_go_to_college       1000 non-null bool\n",
      "dtypes: bool(2), float64(2), int64(2), object(5)\n",
      "memory usage: 72.3+ KB\n"
     ]
    }
   ],
   "source": [
    "# No null\n",
    "col_df.info()"
   ]
  },
  {
   "cell_type": "code",
   "execution_count": 6,
   "metadata": {},
   "outputs": [
    {
     "data": {
      "text/html": [
       "<div>\n",
       "<style scoped>\n",
       "    .dataframe tbody tr th:only-of-type {\n",
       "        vertical-align: middle;\n",
       "    }\n",
       "\n",
       "    .dataframe tbody tr th {\n",
       "        vertical-align: top;\n",
       "    }\n",
       "\n",
       "    .dataframe thead th {\n",
       "        text-align: right;\n",
       "    }\n",
       "</style>\n",
       "<table border=\"1\" class=\"dataframe\">\n",
       "  <thead>\n",
       "    <tr style=\"text-align: right;\">\n",
       "      <th></th>\n",
       "      <th>parent_age</th>\n",
       "      <th>parent_salary</th>\n",
       "      <th>house_area</th>\n",
       "      <th>average_grades</th>\n",
       "    </tr>\n",
       "  </thead>\n",
       "  <tbody>\n",
       "    <tr>\n",
       "      <th>count</th>\n",
       "      <td>1000.000000</td>\n",
       "      <td>1.000000e+03</td>\n",
       "      <td>1000.000000</td>\n",
       "      <td>1000.000000</td>\n",
       "    </tr>\n",
       "    <tr>\n",
       "      <th>mean</th>\n",
       "      <td>52.208000</td>\n",
       "      <td>5.381570e+06</td>\n",
       "      <td>74.515300</td>\n",
       "      <td>86.097200</td>\n",
       "    </tr>\n",
       "    <tr>\n",
       "      <th>std</th>\n",
       "      <td>3.500427</td>\n",
       "      <td>1.397546e+06</td>\n",
       "      <td>15.293346</td>\n",
       "      <td>3.378738</td>\n",
       "    </tr>\n",
       "    <tr>\n",
       "      <th>min</th>\n",
       "      <td>40.000000</td>\n",
       "      <td>1.000000e+06</td>\n",
       "      <td>20.000000</td>\n",
       "      <td>75.000000</td>\n",
       "    </tr>\n",
       "    <tr>\n",
       "      <th>25%</th>\n",
       "      <td>50.000000</td>\n",
       "      <td>4.360000e+06</td>\n",
       "      <td>64.600000</td>\n",
       "      <td>83.737500</td>\n",
       "    </tr>\n",
       "    <tr>\n",
       "      <th>50%</th>\n",
       "      <td>52.000000</td>\n",
       "      <td>5.440000e+06</td>\n",
       "      <td>75.500000</td>\n",
       "      <td>85.575000</td>\n",
       "    </tr>\n",
       "    <tr>\n",
       "      <th>75%</th>\n",
       "      <td>54.000000</td>\n",
       "      <td>6.382500e+06</td>\n",
       "      <td>84.825000</td>\n",
       "      <td>88.262500</td>\n",
       "    </tr>\n",
       "    <tr>\n",
       "      <th>max</th>\n",
       "      <td>65.000000</td>\n",
       "      <td>1.000000e+07</td>\n",
       "      <td>120.000000</td>\n",
       "      <td>98.000000</td>\n",
       "    </tr>\n",
       "  </tbody>\n",
       "</table>\n",
       "</div>"
      ],
      "text/plain": [
       "        parent_age  parent_salary   house_area  average_grades\n",
       "count  1000.000000   1.000000e+03  1000.000000     1000.000000\n",
       "mean     52.208000   5.381570e+06    74.515300       86.097200\n",
       "std       3.500427   1.397546e+06    15.293346        3.378738\n",
       "min      40.000000   1.000000e+06    20.000000       75.000000\n",
       "25%      50.000000   4.360000e+06    64.600000       83.737500\n",
       "50%      52.000000   5.440000e+06    75.500000       85.575000\n",
       "75%      54.000000   6.382500e+06    84.825000       88.262500\n",
       "max      65.000000   1.000000e+07   120.000000       98.000000"
      ]
     },
     "execution_count": 6,
     "metadata": {},
     "output_type": "execute_result"
    }
   ],
   "source": [
    "#descriptive statistics\n",
    "col_df.describe()"
   ]
  },
  {
   "cell_type": "code",
   "execution_count": 7,
   "metadata": {},
   "outputs": [
    {
     "data": {
      "text/plain": [
       "False"
      ]
     },
     "execution_count": 7,
     "metadata": {},
     "output_type": "execute_result"
    }
   ],
   "source": [
    "#check for duplicates\n",
    "col_df.duplicated().any()"
   ]
  },
  {
   "cell_type": "markdown",
   "metadata": {},
   "source": [
    "### What is the structure of your dataset?\n",
    "\n",
    "The dataset I'm working on contains 1000 rows and 11 columns of students accessed based on different thematic areas\n",
    "\n",
    "### What is/are the main feature(s) of interest in your dataset?\n",
    "\n",
    "1. type_school\n",
    "2. gender\n",
    "3. interest\n",
    "4. residence\n",
    "5. parent_salary\n",
    "6. average_grade\n",
    "7. parent_was_in college\n",
    "8. will go to college (dependent feature)\n",
    "\n",
    "### What features in the dataset do you think will help support your investigation into your feature(s) of interest?\n",
    "\n",
    "All features will help support my investigation as they will help answer the question of why a student will go to college of not"
   ]
  },
  {
   "cell_type": "markdown",
   "metadata": {},
   "source": [
    "# Univariate Exploration"
   ]
  },
  {
   "cell_type": "code",
   "execution_count": 8,
   "metadata": {
    "scrolled": false
   },
   "outputs": [],
   "source": [
    "#This function will make plots easier with x taking the column title to be plotted\n",
    "def func (x):\n",
    "    plt.figure(figsize=(10,6))\n",
    "    plt.subplot(1,2,1)\n",
    "    sb.countplot(x, data=col_df)\n",
    "    plt.title(f'Distribution of {x}')\n",
    "    plt.xlabel(x)\n",
    "    \n"
   ]
  },
  {
   "cell_type": "code",
   "execution_count": 9,
   "metadata": {},
   "outputs": [
    {
     "data": {
      "image/png": "[encoded data removed]",
      "text/plain": [
       "<matplotlib.figure.Figure at 0x7fa1590d0588>"
      ]
     },
     "metadata": {
      "needs_background": "light"
     },
     "output_type": "display_data"
    }
   ],
   "source": [
    "func ('gender')"
   ]
  },
  {
   "cell_type": "markdown",
   "metadata": {},
   "source": [
    "> We have more male students represented than female in the dataset, though not a large difference"
   ]
  },
  {
   "cell_type": "code",
   "execution_count": 10,
   "metadata": {
    "scrolled": false
   },
   "outputs": [
    {
     "data": {
      "image/png": "[encoded data removed]",
      "text/plain": [
       "<matplotlib.figure.Figure at 0x7fa156fe08d0>"
      ]
     },
     "metadata": {
      "needs_background": "light"
     },
     "output_type": "display_data"
    }
   ],
   "source": [
    "func ('type_school')"
   ]
  },
  {
   "cell_type": "markdown",
   "metadata": {},
   "source": [
    "> Academic school choice is more than Vocational, this may be because of the residence or the fact that students will most likely want to attend academic schools"
   ]
  },
  {
   "cell_type": "code",
   "execution_count": 11,
   "metadata": {},
   "outputs": [
    {
     "data": {
      "image/png": "[encoded data removed]",
      "text/plain": [
       "<matplotlib.figure.Figure at 0x7fa159054470>"
      ]
     },
     "metadata": {
      "needs_background": "light"
     },
     "output_type": "display_data"
    }
   ],
   "source": [
    "func ('residence')"
   ]
  },
  {
   "cell_type": "markdown",
   "metadata": {},
   "source": [
    "> having more urban student residence may be the reason we have more Academic schools than vocational. We may want to say, we have academic school types in the rural areas and vocational in the rural area"
   ]
  },
  {
   "cell_type": "code",
   "execution_count": 12,
   "metadata": {},
   "outputs": [
    {
     "data": {
      "image/png": "[encoded data removed]",
      "text/plain": [
       "<matplotlib.figure.Figure at 0x7fa156f85ac8>"
      ]
     },
     "metadata": {
      "needs_background": "light"
     },
     "output_type": "display_data"
    }
   ],
   "source": [
    "func ('parent_was_in_college')"
   ]
  },
  {
   "cell_type": "markdown",
   "metadata": {},
   "source": [
    "> We have more parents who wnet to college than those who didn't"
   ]
  },
  {
   "cell_type": "code",
   "execution_count": 13,
   "metadata": {},
   "outputs": [
    {
     "data": {
      "text/plain": [
       "array(['Less Interested', 'Very Interested', 'Uncertain', 'Not Interested',\n",
       "       'Interested'], dtype=object)"
      ]
     },
     "execution_count": 13,
     "metadata": {},
     "output_type": "execute_result"
    }
   ],
   "source": [
    "col_df.interest.unique() #unique values of the column 'interest'"
   ]
  },
  {
   "cell_type": "code",
   "execution_count": 14,
   "metadata": {},
   "outputs": [
    {
     "data": {
      "text/plain": [
       "<matplotlib.axes._subplots.AxesSubplot at 0x7fa156f51048>"
      ]
     },
     "execution_count": 14,
     "metadata": {},
     "output_type": "execute_result"
    },
    {
     "data": {
      "image/png": "[encoded data removed]",
      "text/plain": [
       "<matplotlib.figure.Figure at 0x7fa156f0e470>"
      ]
     },
     "metadata": {
      "needs_background": "light"
     },
     "output_type": "display_data"
    }
   ],
   "source": [
    "interest_order = ['Not Interested','Uncertain', 'Less Interested','Interested', 'Very Interested']\n",
    "sb.countplot(data=col_df, y='interest', order=interest_order)"
   ]
  },
  {
   "cell_type": "markdown",
   "metadata": {},
   "source": [
    "> Students are very interested to go to school followed by those who are uncertain"
   ]
  },
  {
   "cell_type": "code",
   "execution_count": 15,
   "metadata": {},
   "outputs": [
    {
     "data": {
      "image/png": "[encoded data removed]",
      "text/plain": [
       "<matplotlib.figure.Figure at 0x7fa156ea84a8>"
      ]
     },
     "metadata": {
      "needs_background": "light"
     },
     "output_type": "display_data"
    }
   ],
   "source": [
    "col_df.parent_salary.hist()\n",
    "plt.xticks([0.2e7,0.4e7,0.6e7,0.8e7,1.0e7],['1.2m','400m','600m','800m','1b']);\n",
    "plt.xlabel('Average Parent\\'s salary');"
   ]
  },
  {
   "cell_type": "markdown",
   "metadata": {},
   "source": [
    "> parent salary is unimodal, evenly distributed"
   ]
  },
  {
   "cell_type": "code",
   "execution_count": 16,
   "metadata": {},
   "outputs": [
    {
     "data": {
      "image/png": "[encoded data removed]",
      "text/plain": [
       "<matplotlib.figure.Figure at 0x7fa156e8c2b0>"
      ]
     },
     "metadata": {
      "needs_background": "light"
     },
     "output_type": "display_data"
    }
   ],
   "source": [
    "col_df.average_grades.hist()\n",
    "plt.xlabel('Average Score');"
   ]
  },
  {
   "cell_type": "markdown",
   "metadata": {},
   "source": [
    "> Unimodal distribution, where most scores are average. "
   ]
  },
  {
   "cell_type": "code",
   "execution_count": 17,
   "metadata": {},
   "outputs": [
    {
     "data": {
      "image/png": "[encoded data removed]",
      "text/plain": [
       "<matplotlib.figure.Figure at 0x7fa156e0bc18>"
      ]
     },
     "metadata": {
      "needs_background": "light"
     },
     "output_type": "display_data"
    }
   ],
   "source": [
    "func ('will_go_to_college')"
   ]
  },
  {
   "cell_type": "markdown",
   "metadata": {},
   "source": [
    "> there is obviously a balance between those that want to go to college and those that want to go."
   ]
  },
  {
   "cell_type": "markdown",
   "metadata": {},
   "source": [
    "## Bivariate Analysis"
   ]
  },
  {
   "cell_type": "code",
   "execution_count": 18,
   "metadata": {},
   "outputs": [
    {
     "data": {
      "text/plain": [
       "<matplotlib.axes._subplots.AxesSubplot at 0x7fa156de3390>"
      ]
     },
     "execution_count": 18,
     "metadata": {},
     "output_type": "execute_result"
    },
    {
     "data": {
      "image/png": "[encoded data removed]",
      "text/plain": [
       "<matplotlib.figure.Figure at 0x7fa156dff208>"
      ]
     },
     "metadata": {
      "needs_background": "light"
     },
     "output_type": "display_data"
    }
   ],
   "source": [
    "#heatmap to showcase relationship between variables\n",
    "plt.figure(figsize=(10,6))\n",
    "sb.heatmap(col_df.corr(), cmap='Blues', annot=True)"
   ]
  },
  {
   "cell_type": "markdown",
   "metadata": {},
   "source": [
    "> Based on pearson correlation coefficient, `average_grades` and `will_go_to_college` are slightly postively correlated, `parent_salary` and `will_go_to_college` are slightly correlated too, others are negatively correlated."
   ]
  },
  {
   "cell_type": "markdown",
   "metadata": {},
   "source": [
    "**Let's plot it and see if we can detect some patterns.**"
   ]
  },
  {
   "cell_type": "code",
   "execution_count": 19,
   "metadata": {},
   "outputs": [
    {
     "data": {
      "image/png": "[encoded data removed]",
      "text/plain": [
       "<matplotlib.figure.Figure at 0x7fa156553588>"
      ]
     },
     "metadata": {
      "needs_background": "light"
     },
     "output_type": "display_data"
    }
   ],
   "source": [
    "# lets see the result of the correlation in pairwise plot\n",
    "var = ['parent_age','parent_salary','house_area','average_grades']\n",
    "g = sb.PairGrid(data =col_df, vars = var, diag_sharey = False)\n",
    "g = g.map_diag(plt.hist, bins = 20);\n",
    "g.map_offdiag(plt.scatter);"
   ]
  },
  {
   "cell_type": "markdown",
   "metadata": {},
   "source": [
    "> No more significant correlations."
   ]
  },
  {
   "cell_type": "code",
   "execution_count": 20,
   "metadata": {},
   "outputs": [
    {
     "data": {
      "image/png": "[encoded data removed]",
      "text/plain": [
       "<matplotlib.figure.Figure at 0x7fa15648e080>"
      ]
     },
     "metadata": {
      "needs_background": "light"
     },
     "output_type": "display_data"
    }
   ],
   "source": [
    "#let's see the average_grade and will_go_to_college\n",
    "\n",
    "plt.figure(figsize=(10,6))\n",
    "plt.subplot(1,2,1)\n",
    "sb.boxplot(data=col_df, x='will_go_to_college', y='average_grades');\n"
   ]
  },
  {
   "cell_type": "markdown",
   "metadata": {},
   "source": [
    "> we can see that average score has profound effect on going to college as those with higher scores are going to college. where the minimum score of those that go to college is higher than the maximum score of those that didnt go to college."
   ]
  },
  {
   "cell_type": "code",
   "execution_count": 21,
   "metadata": {},
   "outputs": [
    {
     "data": {
      "image/png": "[encoded data removed]",
      "text/plain": [
       "<matplotlib.figure.Figure at 0x7fa155e81048>"
      ]
     },
     "metadata": {
      "needs_background": "light"
     },
     "output_type": "display_data"
    }
   ],
   "source": [
    "#let's see the parent_salary and will_go_to_college\n",
    "\n",
    "plt.figure(figsize=(10,6))\n",
    "plt.subplot(1,2,1)\n",
    "sb.boxplot(data=col_df, x='will_go_to_college', y='parent_salary');\n"
   ]
  },
  {
   "cell_type": "markdown",
   "metadata": {},
   "source": [
    "> parents who earn higher have more children enrolled in colleges than those who earn lower."
   ]
  },
  {
   "cell_type": "code",
   "execution_count": 22,
   "metadata": {},
   "outputs": [
    {
     "data": {
      "image/png": "[encoded data removed]",
      "text/plain": [
       "<matplotlib.figure.Figure at 0x7fa1543cc390>"
      ]
     },
     "metadata": {
      "needs_background": "light"
     },
     "output_type": "display_data"
    }
   ],
   "source": [
    "#gender vs going to college\n",
    "sb.countplot(data=col_df, x='gender', hue='will_go_to_college')\n",
    "plt.legend(title='Going to college?', loc='center left', bbox_to_anchor=(1, 0.85));\n",
    " "
   ]
  },
  {
   "cell_type": "markdown",
   "metadata": {},
   "source": [
    "> though we know that the dataset contains more male students, females then to go to college than male (though the difference isn't significant)"
   ]
  },
  {
   "cell_type": "code",
   "execution_count": 23,
   "metadata": {},
   "outputs": [
    {
     "data": {
      "text/plain": [
       "<matplotlib.legend.Legend at 0x7fa154390080>"
      ]
     },
     "execution_count": 23,
     "metadata": {},
     "output_type": "execute_result"
    },
    {
     "data": {
      "image/png": "[encoded data removed]",
      "text/plain": [
       "<matplotlib.figure.Figure at 0x7fa155e25240>"
      ]
     },
     "metadata": {
      "needs_background": "light"
     },
     "output_type": "display_data"
    }
   ],
   "source": [
    "#interest vs go to college\n",
    "sb.countplot(data=col_df, hue='will_go_to_college', y='interest', order=interest_order)\n",
    "plt.legend(title='Going to college?',loc='center left', bbox_to_anchor=(1, 0.85))"
   ]
  },
  {
   "cell_type": "markdown",
   "metadata": {},
   "source": [
    "> Those who indicated 'very interested' has higher college attendance.\n",
    "\n",
    "> Students who were 'uncertain' and 'less interested' has higher number of students going to college than those who were interested."
   ]
  },
  {
   "cell_type": "markdown",
   "metadata": {},
   "source": [
    "## Multivariate Analysis"
   ]
  },
  {
   "cell_type": "code",
   "execution_count": 24,
   "metadata": {},
   "outputs": [
    {
     "data": {
      "image/png": "[encoded data removed]",
      "text/plain": [
       "<matplotlib.figure.Figure at 0x7fa154311898>"
      ]
     },
     "metadata": {
      "needs_background": "light"
     },
     "output_type": "display_data"
    }
   ],
   "source": [
    "# Relationship between average grade, parent salary and going to college\n",
    "sb.lmplot(data=col_df, x='average_grades', y='parent_salary', hue='gender', fit_reg=False);\n",
    "plt.title('Relationship between average grade and parent Salary to going to college')\n",
    "plt.ylabel('Parent Salary(IDR)')\n",
    "plt.xlabel('Average grade');"
   ]
  },
  {
   "cell_type": "markdown",
   "metadata": {},
   "source": [
    "> Having good grades with parents who earn good salaries tends to increase chances of a student going to college"
   ]
  },
  {
   "cell_type": "code",
   "execution_count": 25,
   "metadata": {},
   "outputs": [
    {
     "data": {
      "text/plain": [
       "<matplotlib.legend.Legend at 0x7fa1560da550>"
      ]
     },
     "execution_count": 25,
     "metadata": {},
     "output_type": "execute_result"
    },
    {
     "data": {
      "image/png": "[encoded data removed]",
      "text/plain": [
       "<matplotlib.figure.Figure at 0x7fa156d1df98>"
      ]
     },
     "metadata": {
      "needs_background": "light"
     },
     "output_type": "display_data"
    }
   ],
   "source": [
    "sb.barplot(data=col_df, x='will_go_to_college', y='interest', hue='gender', order=interest_order)\n",
    "plt.legend(title='Gender', loc='center left', bbox_to_anchor=(1, 0.85))"
   ]
  },
  {
   "cell_type": "markdown",
   "metadata": {},
   "source": [
    "> This gives more emphasis on more female going to colleges."
   ]
  },
  {
   "cell_type": "code",
   "execution_count": 26,
   "metadata": {},
   "outputs": [
    {
     "data": {
      "image/png": "[encoded data removed]",
      "text/plain": [
       "<matplotlib.figure.Figure at 0x7fa154355e10>"
      ]
     },
     "metadata": {
      "needs_background": "light"
     },
     "output_type": "display_data"
    }
   ],
   "source": [
    "sb.barplot(data=col_df, x='will_go_to_college', y='type_school', hue='gender')\n",
    "plt.legend(title='Gender', loc='center left', bbox_to_anchor=(1, 0.85));"
   ]
  },
  {
   "cell_type": "markdown",
   "metadata": {},
   "source": [
    "> There are more female students going to college and vocational schools"
   ]
  },
  {
   "cell_type": "code",
   "execution_count": 27,
   "metadata": {
    "scrolled": true
   },
   "outputs": [
    {
     "data": {
      "image/png": "[encoded data removed]",
      "text/plain": [
       "<matplotlib.figure.Figure at 0x7fa15649c5f8>"
      ]
     },
     "metadata": {
      "needs_background": "light"
     },
     "output_type": "display_data"
    }
   ],
   "source": [
    "#let's see if we have more parents of female students who earn more \n",
    "\n",
    "sb.barplot(data=col_df, x='parent_salary', y='gender', hue='will_go_to_college')\n",
    "plt.legend(title='Going to college?');\n",
    "plt.xticks([1000000, 2000000, 3000000, 4000000, 5000000, 6000000],['1M', '2M', '3M', '4M', '5M', '6M'])\n",
    "plt.title('Relationship between gender and parent Salary to going to college')\n",
    "plt.xlabel('Parent Salary(IDR)')\n",
    "plt.ylabel('Average grade');"
   ]
  },
  {
   "cell_type": "markdown",
   "metadata": {},
   "source": [
    "> This shows we have more female students with parents earning good salaries. Maybe the reason more females are in school than male"
   ]
  },
  {
   "cell_type": "markdown",
   "metadata": {},
   "source": [
    "### Talk about some of the relationships you observed in this part of the investigation. Were there features that strengthened each other in terms of looking at your feature(s) of interest?\n",
    "\n",
    "> The correlation between parent salary and will go to college and average grades\n",
    "\n",
    "### Were there any interesting or surprising interactions between features?\n",
    "\n",
    "> It was interesting we have more male student in the dataset than female but have more female going to college "
   ]
  },
  {
   "cell_type": "markdown",
   "metadata": {},
   "source": [
    "## Conclusions\n",
    "> We may think that a child is most likely to attend college if he/she has parents who went to college but from the heat map, we see a weak correlation. From the visualizations, we see that three things are to be considered in deciding whether or not a student will go to college: Grade, parents salary and a weak maybe gender.\n"
   ]
  },
  {
   "cell_type": "code",
   "execution_count": null,
   "metadata": {},
   "outputs": [],
   "source": []
  }
 ],
 "metadata": {
  "kernelspec": {
   "display_name": "Python 3",
   "language": "python",
   "name": "python3"
  },
  "language_info": {
   "codemirror_mode": {
    "name": "ipython",
    "version": 3
   },
   "file_extension": ".py",
   "mimetype": "text/x-python",
   "name": "python",
   "nbconvert_exporter": "python",
   "pygments_lexer": "ipython3",
   "version": "3.6.3"
  }
 },
 "nbformat": 4,
 "nbformat_minor": 5
}
